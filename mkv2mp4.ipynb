{
  "nbformat": 4,
  "nbformat_minor": 0,
  "metadata": {
    "colab": {
      "provenance": []
    },
    "kernelspec": {
      "name": "python3",
      "display_name": "Python 3"
    },
    "language_info": {
      "name": "python"
    }
  },
  "cells": [
    {
      "cell_type": "markdown",
      "source": [
        "# mkv to mp4 Converter"
      ],
      "metadata": {
        "id": "hPiRUgBoWB3B"
      }
    },
    {
      "cell_type": "code",
      "source": [
        "!pip install ffmpeg-python\n",
        "\n",
        "import ffmpeg"
      ],
      "metadata": {
        "id": "W85JarRO1Gz_"
      },
      "execution_count": null,
      "outputs": []
    },
    {
      "cell_type": "markdown",
      "source": [
        "### Mount Google Drive"
      ],
      "metadata": {
        "id": "jfAVNEm5qRwF"
      }
    },
    {
      "cell_type": "code",
      "source": [
        "from google.colab import drive\n",
        "\n",
        "# Mount Google Drive\n",
        "drive.mount('/content/drive')"
      ],
      "metadata": {
        "id": "lOmLFIEjUMN5"
      },
      "execution_count": null,
      "outputs": []
    },
    {
      "cell_type": "markdown",
      "source": [
        "### Convert .mkv ➔ .mp4"
      ],
      "metadata": {
        "id": "ZUoPIW1fW80t"
      }
    },
    {
      "cell_type": "code",
      "source": [
        "import os\n",
        "\n",
        "# Prompt the user to enter the path to the video file\n",
        "video_file_path = input(\"Please enter the path to your .mkv file: \")\n",
        "\n",
        "# Define the output file path\n",
        "output_file_path = video_file_path.rsplit(\".\", 1)[0] + '.mp4'\n",
        "\n",
        "# Convert the .mkv file to .mp4 using ffmpeg\n",
        "os.system(f'ffmpeg -hide_banner -i \"{video_file_path}\" -c copy -strict -2 \"{output_file_path}\"')\n",
        "\n",
        "print(\"\\nVideo conversion completed!\")"
      ],
      "metadata": {
        "id": "BPNHn4R7VIi9"
      },
      "execution_count": null,
      "outputs": []
    }
  ]
}